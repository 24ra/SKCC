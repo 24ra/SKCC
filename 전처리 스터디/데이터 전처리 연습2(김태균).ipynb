{
 "cells": [
  {
   "cell_type": "code",
   "execution_count": 2,
   "metadata": {},
   "outputs": [],
   "source": [
    "import pandas as pd\n",
    "import numpy as np\n",
    "\n",
    "smokers = pd.read_csv(\"smoke.csv\")"
   ]
  },
  {
   "cell_type": "code",
   "execution_count": 4,
   "metadata": {},
   "outputs": [
    {
     "name": "stdout",
     "output_type": "stream",
     "text": [
      "자료의 수 :  99\n"
     ]
    }
   ],
   "source": [
    "num_records = len(smokers)\n",
    "print(\"자료의 수 : \",num_records)"
   ]
  },
  {
   "cell_type": "code",
   "execution_count": 5,
   "metadata": {},
   "outputs": [
    {
     "data": {
      "text/html": [
       "<div>\n",
       "<style scoped>\n",
       "    .dataframe tbody tr th:only-of-type {\n",
       "        vertical-align: middle;\n",
       "    }\n",
       "\n",
       "    .dataframe tbody tr th {\n",
       "        vertical-align: top;\n",
       "    }\n",
       "\n",
       "    .dataframe thead th {\n",
       "        text-align: right;\n",
       "    }\n",
       "</style>\n",
       "<table border=\"1\" class=\"dataframe\">\n",
       "  <thead>\n",
       "    <tr style=\"text-align: right;\">\n",
       "      <th></th>\n",
       "      <th>Gender</th>\n",
       "      <th>Age</th>\n",
       "      <th>Smoker</th>\n",
       "      <th>HowLong</th>\n",
       "      <th>Cigarettes</th>\n",
       "      <th>Height</th>\n",
       "      <th>Waist</th>\n",
       "      <th>Hips</th>\n",
       "      <th>Weight</th>\n",
       "    </tr>\n",
       "  </thead>\n",
       "  <tbody>\n",
       "    <tr>\n",
       "      <th>0</th>\n",
       "      <td>F</td>\n",
       "      <td>40</td>\n",
       "      <td>no</td>\n",
       "      <td>0</td>\n",
       "      <td>0</td>\n",
       "      <td>165.0</td>\n",
       "      <td>95.0</td>\n",
       "      <td>90.0</td>\n",
       "      <td>72.0</td>\n",
       "    </tr>\n",
       "    <tr>\n",
       "      <th>1</th>\n",
       "      <td>M</td>\n",
       "      <td>37</td>\n",
       "      <td>no</td>\n",
       "      <td>0</td>\n",
       "      <td>0</td>\n",
       "      <td>192.0</td>\n",
       "      <td>97.0</td>\n",
       "      <td>87.0</td>\n",
       "      <td>107.0</td>\n",
       "    </tr>\n",
       "    <tr>\n",
       "      <th>2</th>\n",
       "      <td>F</td>\n",
       "      <td>35</td>\n",
       "      <td>yes</td>\n",
       "      <td>28</td>\n",
       "      <td>15</td>\n",
       "      <td>175.0</td>\n",
       "      <td>70.0</td>\n",
       "      <td>80.0</td>\n",
       "      <td>65.0</td>\n",
       "    </tr>\n",
       "    <tr>\n",
       "      <th>3</th>\n",
       "      <td>M</td>\n",
       "      <td>61</td>\n",
       "      <td>no</td>\n",
       "      <td>0</td>\n",
       "      <td>0</td>\n",
       "      <td>187.5</td>\n",
       "      <td>105.0</td>\n",
       "      <td>87.5</td>\n",
       "      <td>95.0</td>\n",
       "    </tr>\n",
       "    <tr>\n",
       "      <th>4</th>\n",
       "      <td>F</td>\n",
       "      <td>60</td>\n",
       "      <td>yes</td>\n",
       "      <td>42</td>\n",
       "      <td>20</td>\n",
       "      <td>173.0</td>\n",
       "      <td>77.5</td>\n",
       "      <td>72.5</td>\n",
       "      <td>60.0</td>\n",
       "    </tr>\n",
       "    <tr>\n",
       "      <th>5</th>\n",
       "      <td>F</td>\n",
       "      <td>17</td>\n",
       "      <td>no</td>\n",
       "      <td>0</td>\n",
       "      <td>0</td>\n",
       "      <td>165.0</td>\n",
       "      <td>75.0</td>\n",
       "      <td>82.5</td>\n",
       "      <td>60.0</td>\n",
       "    </tr>\n",
       "    <tr>\n",
       "      <th>6</th>\n",
       "      <td>F</td>\n",
       "      <td>23</td>\n",
       "      <td>no</td>\n",
       "      <td>0</td>\n",
       "      <td>0</td>\n",
       "      <td>168.0</td>\n",
       "      <td>80.0</td>\n",
       "      <td>100.0</td>\n",
       "      <td>80.0</td>\n",
       "    </tr>\n",
       "    <tr>\n",
       "      <th>7</th>\n",
       "      <td>M</td>\n",
       "      <td>63</td>\n",
       "      <td>no</td>\n",
       "      <td>0</td>\n",
       "      <td>0</td>\n",
       "      <td>178.0</td>\n",
       "      <td>97.5</td>\n",
       "      <td>105.0</td>\n",
       "      <td>87.0</td>\n",
       "    </tr>\n",
       "    <tr>\n",
       "      <th>8</th>\n",
       "      <td>M</td>\n",
       "      <td>41</td>\n",
       "      <td>no</td>\n",
       "      <td>0</td>\n",
       "      <td>0</td>\n",
       "      <td>175.0</td>\n",
       "      <td>85.0</td>\n",
       "      <td>85.0</td>\n",
       "      <td>80.0</td>\n",
       "    </tr>\n",
       "    <tr>\n",
       "      <th>9</th>\n",
       "      <td>M</td>\n",
       "      <td>17</td>\n",
       "      <td>yes</td>\n",
       "      <td>3</td>\n",
       "      <td>11</td>\n",
       "      <td>185.0</td>\n",
       "      <td>76.0</td>\n",
       "      <td>90.0</td>\n",
       "      <td>79.5</td>\n",
       "    </tr>\n",
       "  </tbody>\n",
       "</table>\n",
       "</div>"
      ],
      "text/plain": [
       "  Gender  Age Smoker  HowLong  Cigarettes  Height  Waist   Hips  Weight\n",
       "0      F   40     no        0           0   165.0   95.0   90.0    72.0\n",
       "1      M   37     no        0           0   192.0   97.0   87.0   107.0\n",
       "2      F   35    yes       28          15   175.0   70.0   80.0    65.0\n",
       "3      M   61     no        0           0   187.5  105.0   87.5    95.0\n",
       "4      F   60    yes       42          20   173.0   77.5   72.5    60.0\n",
       "5      F   17     no        0           0   165.0   75.0   82.5    60.0\n",
       "6      F   23     no        0           0   168.0   80.0  100.0    80.0\n",
       "7      M   63     no        0           0   178.0   97.5  105.0    87.0\n",
       "8      M   41     no        0           0   175.0   85.0   85.0    80.0\n",
       "9      M   17    yes        3          11   185.0   76.0   90.0    79.5"
      ]
     },
     "execution_count": 5,
     "metadata": {},
     "output_type": "execute_result"
    }
   ],
   "source": [
    "smokers.head(n=10)"
   ]
  },
  {
   "cell_type": "code",
   "execution_count": 27,
   "metadata": {},
   "outputs": [
    {
     "name": "stdout",
     "output_type": "stream",
     "text": [
      "여자의 수 :  41\n",
      "남자의 수 :  58\n"
     ]
    }
   ],
   "source": [
    "num_sex = smokers.groupby('Gender')['Gender'].count()\n",
    "\n",
    "print(\"여자의 수 : \", num_sex[0])\n",
    "print(\"남자의 수 : \", num_sex[1])"
   ]
  },
  {
   "cell_type": "code",
   "execution_count": 30,
   "metadata": {},
   "outputs": [
    {
     "name": "stdout",
     "output_type": "stream",
     "text": [
      "흡연자의 수 :  37\n",
      "흡연비율 :  0.374\n"
     ]
    }
   ],
   "source": [
    "num_smokers = smokers.groupby('Smoker')['Smoker'].count()\n",
    "\n",
    "print(\"흡연자의 수 : \", num_smokers[1])\n",
    "print(\"흡연비율 : \", round(num_smokers[1]/len(smokers),3))"
   ]
  },
  {
   "cell_type": "code",
   "execution_count": 54,
   "metadata": {},
   "outputs": [
    {
     "name": "stdout",
     "output_type": "stream",
     "text": [
      "여성 흡연자의 수 :  15\n",
      "여성 흡연비율 :  0.366 \n",
      "\n",
      "남성 흡연자의 수 :  22\n",
      "남성 흡연비율 :  0.379\n"
     ]
    }
   ],
   "source": [
    "num_female_smokers = smokers[smokers['Gender']=='F'].groupby('Smoker')['Smoker'].count()\n",
    "num_male_smokers = smokers[smokers['Gender'] !='F'].groupby('Smoker')['Smoker'].count()\n",
    "\n",
    "print(\"여성 흡연자의 수 : \", num_female_smokers[1])\n",
    "print(\"여성 흡연비율 : \", round(num_female_smokers[1]/num_sex[0],3),\"\\n\")\n",
    "print(\"남성 흡연자의 수 : \", num_male_smokers[1])\n",
    "print(\"남성 흡연비율 : \", round(num_male_smokers[1]/num_sex[1],3))"
   ]
  },
  {
   "cell_type": "code",
   "execution_count": 60,
   "metadata": {},
   "outputs": [
    {
     "data": {
      "text/html": [
       "<div>\n",
       "<style scoped>\n",
       "    .dataframe tbody tr th:only-of-type {\n",
       "        vertical-align: middle;\n",
       "    }\n",
       "\n",
       "    .dataframe tbody tr th {\n",
       "        vertical-align: top;\n",
       "    }\n",
       "\n",
       "    .dataframe thead th {\n",
       "        text-align: right;\n",
       "    }\n",
       "</style>\n",
       "<table border=\"1\" class=\"dataframe\">\n",
       "  <thead>\n",
       "    <tr style=\"text-align: right;\">\n",
       "      <th></th>\n",
       "      <th>Gender</th>\n",
       "      <th>Age</th>\n",
       "      <th>Smoker</th>\n",
       "      <th>HowLong</th>\n",
       "      <th>Cigarettes</th>\n",
       "      <th>Height</th>\n",
       "      <th>Waist</th>\n",
       "      <th>Hips</th>\n",
       "      <th>Weight</th>\n",
       "      <th>BMI</th>\n",
       "    </tr>\n",
       "  </thead>\n",
       "  <tbody>\n",
       "    <tr>\n",
       "      <th>0</th>\n",
       "      <td>F</td>\n",
       "      <td>40</td>\n",
       "      <td>no</td>\n",
       "      <td>0</td>\n",
       "      <td>0</td>\n",
       "      <td>165.0</td>\n",
       "      <td>95.0</td>\n",
       "      <td>90.0</td>\n",
       "      <td>72.0</td>\n",
       "      <td>26.446281</td>\n",
       "    </tr>\n",
       "    <tr>\n",
       "      <th>1</th>\n",
       "      <td>M</td>\n",
       "      <td>37</td>\n",
       "      <td>no</td>\n",
       "      <td>0</td>\n",
       "      <td>0</td>\n",
       "      <td>192.0</td>\n",
       "      <td>97.0</td>\n",
       "      <td>87.0</td>\n",
       "      <td>107.0</td>\n",
       "      <td>29.025608</td>\n",
       "    </tr>\n",
       "    <tr>\n",
       "      <th>2</th>\n",
       "      <td>F</td>\n",
       "      <td>35</td>\n",
       "      <td>yes</td>\n",
       "      <td>28</td>\n",
       "      <td>15</td>\n",
       "      <td>175.0</td>\n",
       "      <td>70.0</td>\n",
       "      <td>80.0</td>\n",
       "      <td>65.0</td>\n",
       "      <td>21.224490</td>\n",
       "    </tr>\n",
       "    <tr>\n",
       "      <th>3</th>\n",
       "      <td>M</td>\n",
       "      <td>61</td>\n",
       "      <td>no</td>\n",
       "      <td>0</td>\n",
       "      <td>0</td>\n",
       "      <td>187.5</td>\n",
       "      <td>105.0</td>\n",
       "      <td>87.5</td>\n",
       "      <td>95.0</td>\n",
       "      <td>27.022222</td>\n",
       "    </tr>\n",
       "    <tr>\n",
       "      <th>4</th>\n",
       "      <td>F</td>\n",
       "      <td>60</td>\n",
       "      <td>yes</td>\n",
       "      <td>42</td>\n",
       "      <td>20</td>\n",
       "      <td>173.0</td>\n",
       "      <td>77.5</td>\n",
       "      <td>72.5</td>\n",
       "      <td>60.0</td>\n",
       "      <td>20.047446</td>\n",
       "    </tr>\n",
       "  </tbody>\n",
       "</table>\n",
       "</div>"
      ],
      "text/plain": [
       "  Gender  Age Smoker  HowLong  Cigarettes  Height  Waist  Hips  Weight  \\\n",
       "0      F   40     no        0           0   165.0   95.0  90.0    72.0   \n",
       "1      M   37     no        0           0   192.0   97.0  87.0   107.0   \n",
       "2      F   35    yes       28          15   175.0   70.0  80.0    65.0   \n",
       "3      M   61     no        0           0   187.5  105.0  87.5    95.0   \n",
       "4      F   60    yes       42          20   173.0   77.5  72.5    60.0   \n",
       "\n",
       "         BMI  \n",
       "0  26.446281  \n",
       "1  29.025608  \n",
       "2  21.224490  \n",
       "3  27.022222  \n",
       "4  20.047446  "
      ]
     },
     "execution_count": 60,
     "metadata": {},
     "output_type": "execute_result"
    }
   ],
   "source": [
    "BMI = smokers['Weight']/(smokers['Height']/100*smokers['Height']/100)\n",
    "smokers['BMI'] = BMI\n",
    "smokers.head()"
   ]
  },
  {
   "cell_type": "code",
   "execution_count": 84,
   "metadata": {},
   "outputs": [
    {
     "data": {
      "text/html": [
       "<div>\n",
       "<style scoped>\n",
       "    .dataframe tbody tr th:only-of-type {\n",
       "        vertical-align: middle;\n",
       "    }\n",
       "\n",
       "    .dataframe tbody tr th {\n",
       "        vertical-align: top;\n",
       "    }\n",
       "\n",
       "    .dataframe thead th {\n",
       "        text-align: right;\n",
       "    }\n",
       "</style>\n",
       "<table border=\"1\" class=\"dataframe\">\n",
       "  <thead>\n",
       "    <tr style=\"text-align: right;\">\n",
       "      <th></th>\n",
       "      <th>BMI_mean</th>\n",
       "      <th>BMI_std</th>\n",
       "    </tr>\n",
       "    <tr>\n",
       "      <th>Gender</th>\n",
       "      <th></th>\n",
       "      <th></th>\n",
       "    </tr>\n",
       "  </thead>\n",
       "  <tbody>\n",
       "    <tr>\n",
       "      <th>F</th>\n",
       "      <td>24.964102</td>\n",
       "      <td>4.672947</td>\n",
       "    </tr>\n",
       "    <tr>\n",
       "      <th>M</th>\n",
       "      <td>24.916288</td>\n",
       "      <td>3.881596</td>\n",
       "    </tr>\n",
       "  </tbody>\n",
       "</table>\n",
       "</div>"
      ],
      "text/plain": [
       "         BMI_mean   BMI_std\n",
       "Gender                     \n",
       "F       24.964102  4.672947\n",
       "M       24.916288  3.881596"
      ]
     },
     "execution_count": 84,
     "metadata": {},
     "output_type": "execute_result"
    }
   ],
   "source": [
    "#성별 BMI의 평균과 표준편차\n",
    "BMI_mean = pd.DataFrame(smokers.groupby('Gender')['BMI'].mean()).rename(columns={'BMI':'BMI_mean'})\n",
    "BMI_std = pd.DataFrame(smokers.groupby('Gender')['BMI'].std()).rename(columns={'BMI':'BMI_std'})\n",
    "\n",
    "pd.DataFrame({'BMI_mean':BMI_mean['BMI_mean'],\n",
    "             'BMI_std':BMI_std['BMI_std']})"
   ]
  },
  {
   "cell_type": "code",
   "execution_count": 88,
   "metadata": {},
   "outputs": [
    {
     "data": {
      "image/png": "[encoded data removed]",
      "text/plain": [
       "<Figure size 432x288 with 1 Axes>"
      ]
     },
     "metadata": {
      "needs_background": "light"
     },
     "output_type": "display_data"
    }
   ],
   "source": [
    "import matplotlib.pyplot as plt\n",
    "import seaborn as sns\n",
    "\n",
    "sns.boxplot(x='Gender',y='BMI', data=smokers)\n",
    "plt.show()"
   ]
  },
  {
   "cell_type": "code",
   "execution_count": 89,
   "metadata": {},
   "outputs": [
    {
     "data": {
      "text/html": [
       "<div>\n",
       "<style scoped>\n",
       "    .dataframe tbody tr th:only-of-type {\n",
       "        vertical-align: middle;\n",
       "    }\n",
       "\n",
       "    .dataframe tbody tr th {\n",
       "        vertical-align: top;\n",
       "    }\n",
       "\n",
       "    .dataframe thead th {\n",
       "        text-align: right;\n",
       "    }\n",
       "</style>\n",
       "<table border=\"1\" class=\"dataframe\">\n",
       "  <thead>\n",
       "    <tr style=\"text-align: right;\">\n",
       "      <th></th>\n",
       "      <th>BMI_mean</th>\n",
       "      <th>BMI_std</th>\n",
       "    </tr>\n",
       "    <tr>\n",
       "      <th>Smoker</th>\n",
       "      <th></th>\n",
       "      <th></th>\n",
       "    </tr>\n",
       "  </thead>\n",
       "  <tbody>\n",
       "    <tr>\n",
       "      <th>no</th>\n",
       "      <td>24.987056</td>\n",
       "      <td>3.875615</td>\n",
       "    </tr>\n",
       "    <tr>\n",
       "      <th>yes</th>\n",
       "      <td>24.850687</td>\n",
       "      <td>4.759915</td>\n",
       "    </tr>\n",
       "  </tbody>\n",
       "</table>\n",
       "</div>"
      ],
      "text/plain": [
       "         BMI_mean   BMI_std\n",
       "Smoker                     \n",
       "no      24.987056  3.875615\n",
       "yes     24.850687  4.759915"
      ]
     },
     "execution_count": 89,
     "metadata": {},
     "output_type": "execute_result"
    }
   ],
   "source": [
    "#흡연유뮤에 따른 BMI 평균과 표준편차\n",
    "BMI_mean = pd.DataFrame(smokers.groupby('Smoker')['BMI'].mean()).rename(columns={'BMI':'BMI_mean'})\n",
    "BMI_std = pd.DataFrame(smokers.groupby('Smoker')['BMI'].std()).rename(columns={'BMI':'BMI_std'})\n",
    "\n",
    "pd.DataFrame({'BMI_mean':BMI_mean['BMI_mean'],\n",
    "             'BMI_std':BMI_std['BMI_std']})"
   ]
  },
  {
   "cell_type": "code",
   "execution_count": 95,
   "metadata": {},
   "outputs": [
    {
     "data": {
      "image/png": "[encoded data removed]",
      "text/plain": [
       "<Figure size 432x288 with 1 Axes>"
      ]
     },
     "metadata": {
      "needs_background": "light"
     },
     "output_type": "display_data"
    }
   ],
   "source": [
    "import matplotlib.pyplot as plt\n",
    "import seaborn as sns\n",
    "\n",
    "sns.boxplot(x='Smoker',y='BMI', data=smokers)\n",
    "plt.show()"
   ]
  },
  {
   "cell_type": "code",
   "execution_count": null,
   "metadata": {},
   "outputs": [],
   "source": []
  }
 ],
 "metadata": {
  "kernelspec": {
   "display_name": "Python 3",
   "language": "python",
   "name": "python3"
  },
  "language_info": {
   "codemirror_mode": {
    "name": "ipython",
    "version": 3
   },
   "file_extension": ".py",
   "mimetype": "text/x-python",
   "name": "python",
   "nbconvert_exporter": "python",
   "pygments_lexer": "ipython3",
   "version": "3.7.4"
  }
 },
 "nbformat": 4,
 "nbformat_minor": 2
}
